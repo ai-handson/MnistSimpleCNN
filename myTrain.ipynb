%%javascript
IPython.OutputArea.prototype._should_scroll = function(lines) {
    return false;
}

%run code/train.py
